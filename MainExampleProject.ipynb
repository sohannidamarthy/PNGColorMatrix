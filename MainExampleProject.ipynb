{
  "nbformat": 4,
  "nbformat_minor": 0,
  "metadata": {
    "colab": {
      "provenance": []
    },
    "kernelspec": {
      "name": "python3",
      "display_name": "Python 3"
    },
    "language_info": {
      "name": "python"
    }
  },
  "cells": [
    {
      "cell_type": "code",
      "execution_count": null,
      "metadata": {
        "id": "W5QtGtXHtFdX",
        "colab": {
          "base_uri": "https://localhost:8080/"
        },
        "outputId": "29eee6f8-64f9-4d00-b261-17e6ae746b6e"
      },
      "outputs": [
        {
          "output_type": "stream",
          "name": "stdout",
          "text": [
            "Drive already mounted at /content/drive; to attempt to forcibly remount, call drive.mount(\"/content/drive\", force_remount=True).\n",
            "0 0 [1 2 0]\n",
            "0 1 [1 2 0]\n",
            "0 2 [1 2 0]\n",
            "0 3 [1 2 0]\n",
            "0 4 [1 2 0]\n",
            "0 5 [1 2 0]\n",
            "0 6 [1 2 0]\n",
            "0 7 [1 2 0]\n",
            "0 16 [1 1 1]\n",
            "0 17 [1 1 1]\n",
            "0 18 [1 1 1]\n",
            "0 19 [1 1 1]\n",
            "0 20 [1 1 1]\n",
            "0 21 [1 1 1]\n",
            "0 22 [1 1 1]\n",
            "0 23 [1 1 1]\n",
            "0 40 [1 1 1]\n",
            "0 41 [1 1 1]\n",
            "0 42 [1 1 1]\n",
            "0 43 [1 1 1]\n",
            "0 44 [1 1 1]\n",
            "0 45 [1 1 1]\n",
            "0 46 [1 1 1]\n",
            "0 47 [1 1 1]\n"
          ]
        }
      ],
      "source": [
        "import cv2\n",
        "from google.colab.patches import cv2_imshow\n",
        "import numpy as np\n",
        "from google.colab import drive\n",
        "drive.mount('/content/drive')\n",
        "filePath='/content/drive/MyDrive/Exmaple Example Project Test/ExampleTest1.jpeg'\n",
        "\n",
        "\n",
        "\n",
        "\n",
        "\n",
        "\n",
        "\n",
        "\n",
        "img=cv2.imread(filePath)\n",
        "black=np.array([0,0,0])\n",
        "#print(img.shape)\n",
        "for i in range(img[0]):\n",
        "  for j in range(img[1]):\n",
        "    if np.array_equal(img[i,j],black)==False:\n",
        "      print(i,j,img[i,j])\n",
        "\n",
        "##print(img[0,0])\n",
        "##print(img.shape[0])\n",
        "##cv2_imshow(img)"
      ]
    },
    {
      "cell_type": "code",
      "source": [
        "from google.colab import drive\n",
        "drive.mount('/content/drive')"
      ],
      "metadata": {
        "id": "sCumqSP3cpdr"
      },
      "execution_count": null,
      "outputs": []
    }
  ]
}